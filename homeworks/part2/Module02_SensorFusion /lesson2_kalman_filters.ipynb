{
 "cells": [
  {
   "cell_type": "markdown",
   "metadata": {},
   "source": [
    "## 1-D Kalman Filter"
   ]
  },
  {
   "cell_type": "markdown",
   "metadata": {},
   "source": [
    "### Measurement Update (Gausian)"
   ]
  },
  {
   "cell_type": "code",
   "execution_count": 12,
   "metadata": {},
   "outputs": [],
   "source": [
    "\"\"\"Measurement Update \n",
    "@input_1: current predicted state (represented by mean1 and var1 as \"Uncentainty\")\n",
    "　t時刻状態の予測値\n",
    " （これはt-1時刻状態のベスト推定とt-1->t時刻の運動変化から予測したものとなる　=> 下のpredict関数）\n",
    "@input_2: measured mean and variance (at t step)\n",
    "　t時刻状態の観測値\n",
    " （でも観測も不確定性があるので、var2がついてる）\n",
    "@output: best estimated state of t step\n",
    "　t時刻状態のベスト推定値\n",
    "\"\"\"\n",
    "# Write a program to update your mean and variance\n",
    "# when given the mean and variance of your belief\n",
    "# and the mean and variance of your measurement.\n",
    "# This program will update the parameters of your\n",
    "# belief function.\n",
    "\n",
    "# ２つの状態がそれぞれガウシャン分布となっており、それらを合成すると\n",
    "# new_mean：mean1とmean2の中間となる\n",
    "# new_var：var1とvar2よいも小さくなる！！！！！！！！！！！！！！！！！！！！！！\n",
    "def update(mean1, var1, mean2, var2):\n",
    "    new_mean = 1. / (var1 + var2) * (var1 * mean2 + var2 * mean1)\n",
    "    new_var = 1. / ((1. / var1) + (1. / var2))\n",
    "    return [new_mean, new_var]"
   ]
  },
  {
   "cell_type": "code",
   "execution_count": 13,
   "metadata": {},
   "outputs": [
    {
     "name": "stdout",
     "output_type": "stream",
     "text": [
      "[12.4, 1.6]\n"
     ]
    }
   ],
   "source": [
    "print(update(10.,8.,13., 2.))"
   ]
  },
  {
   "cell_type": "markdown",
   "metadata": {},
   "source": [
    "### Motion Update/Prediction"
   ]
  },
  {
   "cell_type": "code",
   "execution_count": 14,
   "metadata": {},
   "outputs": [],
   "source": [
    "\"\"\"Motion Update\n",
    "@input_1: current best estimated state (represented by mean1 and var1 as \"Uncentainty\")\n",
    "　t-1時刻のベスト推定\n",
    " （これは上のupdate関数で更新された最終的なt-1時刻状態の推定値）\n",
    "@input_2: predicted state change caused by motion (since predicted, still has a variance in state change) \n",
    "　t-1時刻からt時刻への運動による状態変化\n",
    " （でも運動も不確定性があるので、var2がついてる）\n",
    "@output: predicted state\n",
    "　t時刻状態の予測値\n",
    "\"\"\"\n",
    "# Write a program that will predict your new mean\n",
    "# and variance given the mean and variance of your \n",
    "# prior belief and the mean and variance of your \n",
    "# motion. \n",
    "\n",
    "def predict(mean1, var1, mean2, var2):\n",
    "    new_mean = mean1 + mean2\n",
    "    new_var = var1 + var2\n",
    "    return [new_mean, new_var]"
   ]
  },
  {
   "cell_type": "code",
   "execution_count": 15,
   "metadata": {},
   "outputs": [
    {
     "name": "stdout",
     "output_type": "stream",
     "text": [
      "[22.0, 8.0]\n"
     ]
    }
   ],
   "source": [
    "print(predict(10., 4., 12., 4.))"
   ]
  },
  {
   "cell_type": "markdown",
   "metadata": {},
   "source": [
    "### Kalman Filter Code"
   ]
  },
  {
   "cell_type": "code",
   "execution_count": 19,
   "metadata": {},
   "outputs": [
    {
     "name": "stdout",
     "output_type": "stream",
     "text": [
      "updated:  [4.998000799680128, 3.9984006397441023]\n",
      "predict:  [5.998000799680128, 5.998400639744102]\n",
      "updated:  [5.999200191953931, 2.399744061425258]\n",
      "predict:  [6.999200191953931, 4.399744061425258]\n",
      "updated:  [6.999619127420921, 2.0951800575117594]\n",
      "predict:  [8.999619127420921, 4.09518005751176]\n",
      "updated:  [8.999811802788143, 2.0235152416216957]\n",
      "predict:  [9.999811802788143, 4.023515241621696]\n",
      "updated:  [9.999906177177365, 2.0058615808441944]\n",
      "predict:  [10.999906177177365, 4.005861580844194]\n"
     ]
    }
   ],
   "source": [
    "# Write a program that will iteratively update and\n",
    "# predict based on the location measurements \n",
    "# and inferred motions shown below. \n",
    " \n",
    "# measurements: 観測値 = update()入力のmean2\n",
    "# measurement_sig: 観測値の不確定性 = update()入力のvar2（ここの観測不確定性は事前にセンサーとかの特性から規定している）\n",
    "# motion: 運動変化 = predict()入力のmean2\n",
    "# motion_sig: 運動変化の不確定性 = predict()入力のvar2（ここの運動不確定性は事前に自車の特性から規定している）\n",
    "# mu：ベスト推定状態のmean\n",
    "# sig：ベスト推定状態のvar\n",
    "\n",
    "\"\"\"\n",
    "@0時刻の初期予測状態： [0, 10000]（つまり、状態が\"0\"だと推定しているけど、不確定性が10000ほど大きい）\n",
    "@0~4時刻の観測値：5, 6, 7, 9, 10（e.g. 0時刻の観測\"5\"というのは：0時刻の状態観測値が\"5\"）\n",
    "@0~4時刻の運動：　1, 1, 2, 1, 1（e.g. 0時刻の運動\"1\"というのは：0->1時刻の状態変化が\"1\"）\n",
    "解説：0時刻の観測が\"5\"、初期予測が[0, 10000]なので、0時刻のベスト推定をupdate関数で計算できる\n",
    "解説：そして\"1\"を運動したら、次の状態が大体6になる（なので、1時刻の観測値が\"6\"になっている設定）\n",
    "\"\"\"\n",
    "measurements = [5., 6., 7., 9., 10.]    # measured state\n",
    "motion = [1., 1., 2., 1., 1.]           # motion\n",
    "measurement_sig = 4.\n",
    "motion_sig = 2.\n",
    "mu = 0.\n",
    "sig = 10000.   # 初期予測状態の不確定性が大きいので、0時刻状態のベスト推定が\"5\"の近くになる\n",
    "\n",
    "# Insert code here\n",
    "for i in range(len(measurements)):\n",
    "    [mu, sig] = update(mu, sig, measurements[i], measurement_sig)\n",
    "    print(\"updated: \", [mu, sig])\n",
    "    [mu, sig] = predict(mu, sig, motion[i], motion_sig)\n",
    "    print(\"predict: \", [mu, sig])"
   ]
  },
  {
   "cell_type": "code",
   "execution_count": 20,
   "metadata": {},
   "outputs": [
    {
     "name": "stdout",
     "output_type": "stream",
     "text": [
      "updated:  [1.249999996875e-08, 9.999999975e-09]\n",
      "predict:  [1.0000000125, 2.00000001]\n",
      "updated:  [2.6666666805555552, 1.3333333377777778]\n",
      "predict:  [3.6666666805555552, 3.333333337777778]\n",
      "updated:  [5.181818190495868, 1.8181818195041322]\n",
      "predict:  [7.181818190495868, 3.818181819504132]\n",
      "updated:  [8.069767446457545, 1.9534883724391563]\n",
      "predict:  [9.069767446457545, 3.953488372439156]\n",
      "updated:  [9.532163745022402, 1.9883040936547995]\n",
      "predict:  [10.532163745022402, 3.9883040936547998]\n"
     ]
    }
   ],
   "source": [
    "measurements = [5., 6., 7., 9., 10.]\n",
    "motion = [1., 1., 2., 1., 1.]\n",
    "measurement_sig = 4.\n",
    "motion_sig = 2.\n",
    "mu = 0.\n",
    "sig = 0.00000001    # 初期予測状態の不確定性を小さくしたら、0時刻状態のベスト推定が\"0\"の近くになる => 初期のbelifが間違っている\n",
    "\n",
    "# Insert code here\n",
    "for i in range(len(measurements)):\n",
    "    [mu, sig] = update(mu, sig, measurements[i], measurement_sig)\n",
    "    print(\"updated: \", [mu, sig])\n",
    "    [mu, sig] = predict(mu, sig, motion[i], motion_sig)\n",
    "    print(\"predict: \", [mu, sig])"
   ]
  },
  {
   "cell_type": "code",
   "execution_count": null,
   "metadata": {},
   "outputs": [],
   "source": []
  },
  {
   "cell_type": "code",
   "execution_count": null,
   "metadata": {},
   "outputs": [],
   "source": []
  },
  {
   "cell_type": "code",
   "execution_count": null,
   "metadata": {},
   "outputs": [],
   "source": []
  }
 ],
 "metadata": {
  "kernelspec": {
   "display_name": "Python 3",
   "language": "python",
   "name": "python3"
  },
  "language_info": {
   "codemirror_mode": {
    "name": "ipython",
    "version": 3
   },
   "file_extension": ".py",
   "mimetype": "text/x-python",
   "name": "python",
   "nbconvert_exporter": "python",
   "pygments_lexer": "ipython3",
   "version": "3.6.9"
  }
 },
 "nbformat": 4,
 "nbformat_minor": 5
}

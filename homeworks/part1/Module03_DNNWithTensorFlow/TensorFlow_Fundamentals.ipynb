{
 "cells": [
  {
   "cell_type": "code",
   "execution_count": 9,
   "id": "bizarre-child",
   "metadata": {},
   "outputs": [],
   "source": [
    "import tensorflow as tf"
   ]
  },
  {
   "cell_type": "markdown",
   "id": "varied-beginning",
   "metadata": {},
   "source": [
    "## Hello TensorFlow"
   ]
  },
  {
   "cell_type": "code",
   "execution_count": 7,
   "id": "expected-harrison",
   "metadata": {},
   "outputs": [
    {
     "name": "stdout",
     "output_type": "stream",
     "text": [
      "<class 'tensorflow.python.framework.ops.Tensor'>\n"
     ]
    }
   ],
   "source": [
    "hello_constant = tf.constant('Hello World!')\n",
    "print(type(hello_constant))"
   ]
  },
  {
   "cell_type": "code",
   "execution_count": 8,
   "id": "wound-sheriff",
   "metadata": {},
   "outputs": [
    {
     "name": "stdout",
     "output_type": "stream",
     "text": [
      "b'Hello World!'\n"
     ]
    }
   ],
   "source": [
    "# A \"TensorFlow Session\", is an environment for running a graph.\n",
    "# Variable \"hello_constant\" was added into the graph above.\n",
    "# So here sess.run(hello_constant) will run it and get the output.\n",
    "# sess.run(<other>) will get the result of <other>\n",
    "with tf.Session() as sess:\n",
    "    # Run the tf.constant operation in the session\n",
    "    output = sess.run(hello_constant)\n",
    "    print(output)"
   ]
  },
  {
   "cell_type": "markdown",
   "id": "protected-boating",
   "metadata": {},
   "source": [
    "## TensorFlow Input (Basics: tf.placeholder(), tf.Variable(), etc.)"
   ]
  },
  {
   "cell_type": "code",
   "execution_count": 15,
   "id": "tutorial-mechanics",
   "metadata": {},
   "outputs": [
    {
     "name": "stdout",
     "output_type": "stream",
     "text": [
      "Test String 123 45.67\n"
     ]
    }
   ],
   "source": [
    "# tf.placeholder(): a constant value\n",
    "# Why we need placeholder? use this \"x\" for different task and avoid define another variable. \n",
    "x = tf.placeholder(tf.string)\n",
    "y = tf.placeholder(tf.int32)\n",
    "z = tf.placeholder(tf.float32)\n",
    "\n",
    "# feed_dict: feed value for placeholders\n",
    "with tf.Session() as sess:\n",
    "    output1 = sess.run(x, feed_dict={x: 'Test String', y: 123, z: 45.67})\n",
    "    output2 = sess.run(y, feed_dict={x: 'Test String', y: 123, z: 45.67})\n",
    "    output3 = sess.run(z, feed_dict={x: 'Test String', y: 123, z: 45.67})\n",
    "    print(output1, output2, output3)"
   ]
  },
  {
   "cell_type": "code",
   "execution_count": 19,
   "id": "manufactured-nirvana",
   "metadata": {},
   "outputs": [],
   "source": [
    "# tf.Variable(): different from tf.placeholder(), which can be modified (just like a Python variable)\n",
    "# This tensor stores its state in the session, so you must initialize the state of the tensor manually.\n",
    "x = tf.Variable(5)"
   ]
  },
  {
   "cell_type": "code",
   "execution_count": null,
   "id": "handy-defensive",
   "metadata": {},
   "outputs": [],
   "source": [
    "# Initialization: normally, we initiate the DNN weights with random numbers from a normal distribution.\n",
    "# instead of totally random\n",
    "n_features = 120\n",
    "n_labels = 5\n",
    "weights = tf.Variable(tf.truncated_normal((n_features, n_labels)))\n",
    "\n",
    "# bias can be 0\n",
    "n_labels = 5\n",
    "bias = tf.Variable(tf.zeros(n_labels))"
   ]
  },
  {
   "cell_type": "code",
   "execution_count": 18,
   "id": "acting-dispatch",
   "metadata": {},
   "outputs": [],
   "source": [
    "# tf.global_variables_initializer(): initialize the state of all the Variable tensors in Session\n",
    "# returns: an operation that will initialize all TensorFlow variables from the graph\n",
    "init = tf.global_variables_initializer()\n",
    "with tf.Session() as sess:\n",
    "    sess.run(init)"
   ]
  },
  {
   "cell_type": "markdown",
   "id": "third-universe",
   "metadata": {},
   "source": [
    "## TensorFlow Math"
   ]
  },
  {
   "cell_type": "code",
   "execution_count": 14,
   "id": "green-arcade",
   "metadata": {},
   "outputs": [
    {
     "data": {
      "text/plain": [
       "<tf.Tensor 'Sub_1:0' shape=() dtype=int32>"
      ]
     },
     "execution_count": 14,
     "metadata": {},
     "output_type": "execute_result"
    }
   ],
   "source": [
    "x = tf.add(5, 2)  # 7\n",
    "y = tf.subtract(10, 4) # 6\n",
    "z = tf.multiply(2, 5)  # 10\n",
    "tf.subtract(tf.cast(tf.constant(2.0), tf.int32), tf.constant(1))   # 2-1 = 1 (2.0-1 will be error)"
   ]
  },
  {
   "cell_type": "code",
   "execution_count": null,
   "id": "overhead-aircraft",
   "metadata": {},
   "outputs": [],
   "source": []
  }
 ],
 "metadata": {
  "kernelspec": {
   "display_name": "Python 3",
   "language": "python",
   "name": "python3"
  },
  "language_info": {
   "codemirror_mode": {
    "name": "ipython",
    "version": 3
   },
   "file_extension": ".py",
   "mimetype": "text/x-python",
   "name": "python",
   "nbconvert_exporter": "python",
   "pygments_lexer": "ipython3",
   "version": "3.6.12"
  }
 },
 "nbformat": 4,
 "nbformat_minor": 5
}
